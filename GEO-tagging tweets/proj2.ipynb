{
 "cells": [
  {
   "cell_type": "markdown",
   "metadata": {},
   "source": [
    "# The University of Melbourne, School of Computing and Information Systems\n",
    "# COMP30027 Machine Learning, 2019 Semester 1\n",
    "-----\n",
    "## Project 2\n",
    "-----\n",
    "###### Student Name(s):  wowwowwow\n",
    "###### Python version: Python 3\n"
   ]
  },
  {
   "cell_type": "code",
   "execution_count": 1,
   "metadata": {},
   "outputs": [],
   "source": [
    "import pandas as pd\n",
    "import numpy as np\n",
    "import csv\n",
    "import math\n",
    "from sklearn import svm, datasets\n",
    "from sklearn.naive_bayes import GaussianNB, MultinomialNB, BernoulliNB\n",
    "from sklearn.model_selection import cross_val_score\n",
    "from sklearn.ensemble import RandomForestClassifier\n",
    "from sklearn import metrics\n",
    "from sklearn import model_selection, preprocessing, linear_model, naive_bayes, metrics, svm\n",
    "from sklearn.feature_extraction.text import TfidfVectorizer, CountVectorizer\n",
    "from sklearn import decomposition, ensemble\n",
    "from collections import Counter\n",
    "from sklearn.preprocessing import OneHotEncoder\n",
    "from sklearn.naive_bayes import GaussianNB, MultinomialNB, BernoulliNB\n",
    "from sklearn.model_selection import cross_val_score\n",
    "from sklearn.dummy import DummyClassifier\n",
    "from sklearn.linear_model import LogisticRegression\n",
    "from sklearn.neighbors import KNeighborsClassifier\n",
    "from sklearn.tree import DecisionTreeClassifier\n",
    "from sklearn import svm\n",
    "from sklearn.ensemble import VotingClassifier\n",
    "from sklearn.metrics import accuracy_score\n",
    "from sklearn.model_selection import train_test_split\n",
    "from nltk.classify.scikitlearn import SklearnClassifier"
   ]
  },
  {
   "cell_type": "code",
   "execution_count": 18,
   "metadata": {},
   "outputs": [],
   "source": [
    "trains=[\"dh/train-top10.csv\",\"dh/train-top50.csv\",\"dh/train-top100.csv\"]\n",
    "devs=[\"dh/dev-top10.csv\",\"dh/dev-top50.csv\",\"dh/dev-top100.csv\"]"
   ]
  },
  {
   "cell_type": "code",
   "execution_count": 108,
   "metadata": {},
   "outputs": [],
   "source": [
    "def preprocess(file):\n",
    "    \n",
    "    \n",
    "    data = pd.read_csv(file,index_col=0)\n",
    "    return data\n",
    "\n",
    "def get_index_raw(file):\n",
    "    data=pd.read_csv(file, delimiter='\\t')\n",
    "    data=data[\"Instance_ID\"]\n",
    "    return data\n",
    "\n",
    "def get_index(file):\n",
    "    data=pd.read_csv(file)\n",
    "    data=data[\"Instance_ID\"]\n",
    "    return data\n",
    "\n",
    "def split_xy(data):\n",
    "    y=data.iloc[:,1:-1]\n",
    "    x=data.iloc[:,-1]\n",
    "    return x,y\n",
    "\n",
    "def split_xy2(data):\n",
    "    y=data.iloc[:,-1]\n",
    "    x=data.iloc[:,1:-1]\n",
    "    return x,y\n",
    "\n",
    "def train(classifier,x,y,dev,y_dev):\n",
    "    classifier.fit(x,y)\n",
    "    pred=classifier.predict(dev)\n",
    "    return metrics.accuracy_score(pred,y_dev)\n",
    "\n",
    "def trains(classifier,x,y,dev,y_dev):\n",
    "    classifier.fit(x,y)\n",
    "    pred=classifier.predict(dev)\n",
    "    return pred\n",
    "\n"
   ]
  },
  {
   "cell_type": "code",
   "execution_count": 12,
   "metadata": {},
   "outputs": [],
   "source": [
    "#train_raw=preprocess(\"dh/train-raw.tsv\")\n",
    "train_50=preprocess(\"dh/train-top50.csv\")\n",
    "train_10=preprocess(\"dh/train-top10.csv\")\n",
    "train_100=preprocess(\"dh/train-top100.csv\")"
   ]
  },
  {
   "cell_type": "code",
   "execution_count": 19,
   "metadata": {},
   "outputs": [
    {
     "name": "stdout",
     "output_type": "stream",
     "text": [
      "0.2948869117804695\n",
      "0.29976436250224253\n",
      "0.2979151034408833\n",
      "0.3072410230048438\n",
      "0.3038642941365634\n",
      "0.3148782827097968\n"
     ]
    }
   ],
   "source": [
    "#Support Vector Machine， linear svc\n",
    "\n",
    "C=1.0\n",
    "for i,j in zip(trains,devs):\n",
    "    datas=preprocess(i)\n",
    "    dev=preprocess(j)\n",
    "    X,Y=split_xy2(datas)\n",
    "    x,y=split_xy2(dev)\n",
    "    model=svm.LinearSVC(C=C)\n",
    "    model.fit(X,Y)\n",
    "    print(model.score(x,y))\n",
    "    print(np.mean(cross_val_score(model, x, y, cv=10)))"
   ]
  },
  {
   "cell_type": "code",
   "execution_count": null,
   "metadata": {},
   "outputs": [],
   "source": [
    "\n"
   ]
  },
  {
   "cell_type": "code",
   "execution_count": 20,
   "metadata": {},
   "outputs": [
    {
     "name": "stdout",
     "output_type": "stream",
     "text": [
      "0.29491370993675636\n",
      "0.29802246778815855\n",
      "0.30134526744559975\n",
      "0.3054721605049014\n",
      "0.3078304212670168\n",
      "0.3126542166346963\n"
     ]
    }
   ],
   "source": [
    "C=1.0\n",
    "for i,j in zip(trains,devs):\n",
    "    datas=preprocess(i)\n",
    "    dev=preprocess(j)\n",
    "    X,Y=split_xy2(datas)\n",
    "    x,y=split_xy2(dev)\n",
    "    model=naive_bayes.MultinomialNB()\n",
    "    model.fit(X,Y)\n",
    "    print(model.score(x,y))\n",
    "    print(np.mean(cross_val_score(model, x, y, cv=10)))"
   ]
  },
  {
   "cell_type": "code",
   "execution_count": 101,
   "metadata": {},
   "outputs": [
    {
     "name": "stdout",
     "output_type": "stream",
     "text": [
      "0.2947261228427484\n",
      "\n",
      "0.29555686568764067\n",
      "0.30046092828813376\n",
      "\n",
      "0.3006753135384286\n",
      "0.30231000107192624\n",
      "\n",
      "0.3080448065173116\n"
     ]
    }
   ],
   "source": [
    "for i,j in zip(trains,devs):\n",
    "    datas=preprocess(i)\n",
    "    dev=preprocess(j)\n",
    "    \n",
    "    y_id=get_index(j)\n",
    "    X,Y=split_xy2(datas)\n",
    "    x,y=split_xy2(dev)\n",
    "    \n",
    "    \n",
    "    \n",
    "    rfc= RandomForestClassifier(max_depth=None, random_state=0)\n",
    "    rfc2= RandomForestClassifier(n_estimators=500)\n",
    "    rfc.fit(X,Y)\n",
    "    y_pred= rfc.predict(x)\n",
    "    rfc2.fit(X,Y)\n",
    "    y_pred2= rfc2.predict(x)\n",
    "    \n",
    "    \n",
    "    \n",
    "    print(metrics.accuracy_score(y, y_pred))\n",
    "    print()\n",
    "    print(metrics.accuracy_score(y, y_pred2))"
   ]
  },
  {
   "cell_type": "code",
   "execution_count": null,
   "metadata": {},
   "outputs": [],
   "source": []
  },
  {
   "cell_type": "code",
   "execution_count": 110,
   "metadata": {},
   "outputs": [],
   "source": [
    "encod = preprocessing.LabelEncoder()\n",
    "\n",
    "df_d = pd.read_csv(\"d/dev-raw.tsv\", delimiter='\\t',header=None,quoting=csv.QUOTE_NONE)\n",
    "df_t = pd.read_csv(\"d/train-raw.tsv\", delimiter='\\t',header=None,quoting=csv.QUOTE_NONE)\n",
    "df_tt = pd.read_csv(\"d/test-raw.tsv\",delimiter='\\t', header=None,quoting=csv.QUOTE_NONE)\n",
    "\n",
    "\n",
    "xt,yt=split_xy(df_t)\n",
    "xtt,ytt=split_xy(df_tt)\n",
    "xd,yd=split_xy(df_d)"
   ]
  },
  {
   "cell_type": "code",
   "execution_count": 112,
   "metadata": {},
   "outputs": [],
   "source": [
    "# word level tf-idf\n",
    "tfidf_vect = TfidfVectorizer(analyzer='word',  max_features=100000000000000000000)\n",
    "tfidf_vect.fit(xt)\n",
    "xtrain_tfidf =  tfidf_vect.transform(xt)\n",
    "xvalid_tfidf =  tfidf_vect.transform(xd)\n",
    "xtest_tfidf =  tfidf_vect.transform(xtt)\n",
    "\n",
    "# ngram level tf-idf \n",
    "tfidf_vect_ngram = TfidfVectorizer(analyzer='word', ngram_range=(2,3), max_features=100000000000000000000)\n",
    "tfidf_vect_ngram.fit(xt)\n",
    "xtrain_tfidf_ngram =  tfidf_vect_ngram.transform(xt)\n",
    "xvalid_tfidf_ngram =  tfidf_vect_ngram.transform(xd)\n",
    "xtest_tfidf_ngram =  tfidf_vect_ngram.transform(xtt)\n",
    "\n",
    "# characters level tf-idf\n",
    "tfidf_vect_ngram_chars = TfidfVectorizer(analyzer='char', ngram_range=(2,3), max_features=100000000000000000000)\n",
    "tfidf_vect_ngram_chars.fit(xt)\n",
    "xtrain_tfidf_ngram_chars =  tfidf_vect_ngram_chars.transform(xt) \n",
    "xvalid_tfidf_ngram_chars =  tfidf_vect_ngram_chars.transform(xd) \n",
    "xtest_tfidf_ngram_chars =  tfidf_vect_ngram_chars.transform(xtt) "
   ]
  },
  {
   "cell_type": "code",
   "execution_count": 23,
   "metadata": {},
   "outputs": [],
   "source": [
    "xtest_tfidf_ngram =  tfidf_vect_ngram.transform(xtt)"
   ]
  },
  {
   "cell_type": "code",
   "execution_count": 114,
   "metadata": {},
   "outputs": [],
   "source": [
    "count_x= CountVectorizer(analyzer='word', token_pattern=r'\\w{1,}')\n",
    "count_x.fit(xt)\n",
    "\n",
    "\n",
    "x_c =  count_x.transform(xt)\n",
    "d_c =  count_x.transform(xd)\n",
    "xxx=count_x.transform(xtt)\n"
   ]
  },
  {
   "cell_type": "code",
   "execution_count": 194,
   "metadata": {},
   "outputs": [
    {
     "name": "stderr",
     "output_type": "stream",
     "text": [
      "/anaconda3/lib/python3.6/site-packages/sklearn/utils/validation.py:578: DataConversionWarning: A column-vector y was passed when a 1d array was expected. Please change the shape of y to (n_samples, ), for example using ravel().\n",
      "  y = column_or_1d(y, warn=True)\n"
     ]
    },
    {
     "name": "stdout",
     "output_type": "stream",
     "text": [
      "0.3365044484939436\n",
      "0.33154678958087686\n"
     ]
    },
    {
     "name": "stderr",
     "output_type": "stream",
     "text": [
      "/anaconda3/lib/python3.6/site-packages/ipykernel_launcher.py:23: DataConversionWarning: A column-vector y was passed when a 1d array was expected. Please change the shape of y to (n_samples,), for example using ravel().\n"
     ]
    },
    {
     "name": "stdout",
     "output_type": "stream",
     "text": [
      "0.3180673169685926\n"
     ]
    },
    {
     "name": "stderr",
     "output_type": "stream",
     "text": [
      "/anaconda3/lib/python3.6/site-packages/sklearn/utils/validation.py:578: DataConversionWarning: A column-vector y was passed when a 1d array was expected. Please change the shape of y to (n_samples, ), for example using ravel().\n",
      "  y = column_or_1d(y, warn=True)\n"
     ]
    },
    {
     "name": "stdout",
     "output_type": "stream",
     "text": [
      "0.34181048343873943\n",
      "0.34481187694286636\n"
     ]
    }
   ],
   "source": [
    "acc=train(linear_model.LogisticRegression(), x_c, yt, d_c,yd)\n",
    "print(acc)\n",
    "\n",
    "acc=train(svm.LinearSVC(C=C), x_c, yt, d_c,yd)\n",
    "print(acc)\n",
    "\n",
    "acc=train(ensemble.RandomForestClassifier(), x_c, yt, d_c,yd)\n",
    "print(acc)\n",
    "\n",
    "acc=train(naive_bayes.MultinomialNB(), x_c, yt, d_c,yd)\n",
    "print(acc)\n",
    "\n",
    "acc=train(naive_bayes.BernoulliNB(), x_c, yt, d_c,yd)\n",
    "print(acc)"
   ]
  },
  {
   "cell_type": "code",
   "execution_count": 147,
   "metadata": {},
   "outputs": [
    {
     "name": "stderr",
     "output_type": "stream",
     "text": [
      "/anaconda3/lib/python3.6/site-packages/sklearn/utils/validation.py:578: DataConversionWarning: A column-vector y was passed when a 1d array was expected. Please change the shape of y to (n_samples, ), for example using ravel().\n",
      "  y = column_or_1d(y, warn=True)\n"
     ]
    },
    {
     "name": "stdout",
     "output_type": "stream",
     "text": [
      "0.34181048343873943\n",
      "0.34481187694286636\n",
      "0.26594490299067425\n",
      "0.25\n"
     ]
    }
   ],
   "source": [
    "\n",
    "acc=train(svm.SVC(kernel='rbf', gamma=0.7, C=C), x_c, yt, d_c,yd)\n",
    "print(acc)\n",
    "\n",
    "acc=train(svm.SVC(kernel='poly', degree=3, C=C), x_c, yt, d_c,yd)\n",
    "print(acc)\n",
    "\n"
   ]
  },
  {
   "cell_type": "code",
   "execution_count": 47,
   "metadata": {},
   "outputs": [
    {
     "name": "stderr",
     "output_type": "stream",
     "text": [
      "/anaconda3/lib/python3.6/site-packages/sklearn/utils/validation.py:578: DataConversionWarning: A column-vector y was passed when a 1d array was expected. Please change the shape of y to (n_samples, ), for example using ravel().\n",
      "  y = column_or_1d(y, warn=True)\n"
     ]
    },
    {
     "name": "stdout",
     "output_type": "stream",
     "text": [
      "0.33541554959785524\n",
      "0.34072386058981236\n",
      "0.29343163538873995\n"
     ]
    }
   ],
   "source": [
    "acc=train(linear_model.LogisticRegression(), xtrain_tfidf, yt, xvalid_tfidf,yd)\n",
    "print(acc)\n",
    "\n",
    "acc=train(svm.LinearSVC(C=C), xtrain_tfidf, yt, xvalid_tfidf,yd)\n",
    "print(acc)\n",
    "\n",
    "acc=train(svm.LinearSVC(C=C), xtrain_tfidf_ngram, yt, xvalid_tfidf_ngram,yd)\n",
    "print(acc)\n",
    "\n"
   ]
  },
  {
   "cell_type": "code",
   "execution_count": 44,
   "metadata": {},
   "outputs": [
    {
     "name": "stderr",
     "output_type": "stream",
     "text": [
      "/anaconda3/lib/python3.6/site-packages/ipykernel_launcher.py:23: DataConversionWarning: A column-vector y was passed when a 1d array was expected. Please change the shape of y to (n_samples,), for example using ravel().\n"
     ]
    },
    {
     "name": "stdout",
     "output_type": "stream",
     "text": [
      "0.2732975871313673\n"
     ]
    },
    {
     "name": "stderr",
     "output_type": "stream",
     "text": [
      "/anaconda3/lib/python3.6/site-packages/ipykernel_launcher.py:23: DataConversionWarning: A column-vector y was passed when a 1d array was expected. Please change the shape of y to (n_samples,), for example using ravel().\n"
     ]
    },
    {
     "name": "stdout",
     "output_type": "stream",
     "text": [
      "0.3204289544235925\n"
     ]
    }
   ],
   "source": [
    "acc=train(ensemble.RandomForestClassifier(), xtrain_tfidf_ngram, yt, xvalid_tfidf_ngram,yd)\n",
    "print(acc)\n",
    "acc=train(ensemble.RandomForestClassifier(), xtrain_tfidf_ngram_chars, yt, xvalid_tfidf_ngram_chars,yd)\n",
    "print(acc)"
   ]
  },
  {
   "cell_type": "code",
   "execution_count": 43,
   "metadata": {},
   "outputs": [
    {
     "name": "stderr",
     "output_type": "stream",
     "text": [
      "/anaconda3/lib/python3.6/site-packages/ipykernel_launcher.py:23: DataConversionWarning: A column-vector y was passed when a 1d array was expected. Please change the shape of y to (n_samples,), for example using ravel().\n"
     ]
    },
    {
     "name": "stdout",
     "output_type": "stream",
     "text": [
      "0.3089812332439678\n"
     ]
    }
   ],
   "source": [
    "acc=train(ensemble.RandomForestClassifier(), xtrain_tfidf, yt, xvalid_tfidf,yd)\n",
    "print(acc)\n",
    "\n"
   ]
  },
  {
   "cell_type": "code",
   "execution_count": 48,
   "metadata": {},
   "outputs": [
    {
     "name": "stderr",
     "output_type": "stream",
     "text": [
      "/anaconda3/lib/python3.6/site-packages/sklearn/utils/validation.py:578: DataConversionWarning: A column-vector y was passed when a 1d array was expected. Please change the shape of y to (n_samples, ), for example using ravel().\n",
      "  y = column_or_1d(y, warn=True)\n"
     ]
    },
    {
     "name": "stdout",
     "output_type": "stream",
     "text": [
      "0.2916353887399464\n",
      "0.3301876675603217\n",
      "0.3431099195710456\n"
     ]
    }
   ],
   "source": [
    "acc=train(naive_bayes.MultinomialNB(), xtrain_tfidf_ngram, yt, xvalid_tfidf_ngram,yd)\n",
    "print(acc)\n",
    "\n",
    "acc=train(naive_bayes.MultinomialNB(), xtrain_tfidf_ngram_chars, yt, xvalid_tfidf_ngram_chars,yd)\n",
    "print(acc)\n",
    "\n",
    "acc=train(naive_bayes.MultinomialNB(), xtrain_tfidf, yt, xvalid_tfidf,yd)\n",
    "print(acc)\n"
   ]
  },
  {
   "cell_type": "code",
   "execution_count": 50,
   "metadata": {},
   "outputs": [
    {
     "name": "stderr",
     "output_type": "stream",
     "text": [
      "/anaconda3/lib/python3.6/site-packages/sklearn/utils/validation.py:578: DataConversionWarning: A column-vector y was passed when a 1d array was expected. Please change the shape of y to (n_samples, ), for example using ravel().\n",
      "  y = column_or_1d(y, warn=True)\n"
     ]
    },
    {
     "name": "stdout",
     "output_type": "stream",
     "text": [
      "0.3431099195710456\n",
      "0.2916353887399464\n",
      "0.3301876675603217\n"
     ]
    },
    {
     "name": "stderr",
     "output_type": "stream",
     "text": [
      "/anaconda3/lib/python3.6/site-packages/ipykernel_launcher.py:23: DataConversionWarning: A column-vector y was passed when a 1d array was expected. Please change the shape of y to (n_samples,), for example using ravel().\n"
     ]
    },
    {
     "name": "stdout",
     "output_type": "stream",
     "text": [
      "0.3209383378016086\n"
     ]
    },
    {
     "name": "stderr",
     "output_type": "stream",
     "text": [
      "/anaconda3/lib/python3.6/site-packages/ipykernel_launcher.py:23: DataConversionWarning: A column-vector y was passed when a 1d array was expected. Please change the shape of y to (n_samples,), for example using ravel().\n"
     ]
    },
    {
     "name": "stdout",
     "output_type": "stream",
     "text": [
      "0.2806702412868633\n"
     ]
    },
    {
     "name": "stderr",
     "output_type": "stream",
     "text": [
      "/anaconda3/lib/python3.6/site-packages/ipykernel_launcher.py:23: DataConversionWarning: A column-vector y was passed when a 1d array was expected. Please change the shape of y to (n_samples,), for example using ravel().\n"
     ]
    },
    {
     "name": "stdout",
     "output_type": "stream",
     "text": [
      "0.3167828418230563\n"
     ]
    },
    {
     "name": "stderr",
     "output_type": "stream",
     "text": [
      "/anaconda3/lib/python3.6/site-packages/sklearn/utils/validation.py:578: DataConversionWarning: A column-vector y was passed when a 1d array was expected. Please change the shape of y to (n_samples, ), for example using ravel().\n",
      "  y = column_or_1d(y, warn=True)\n"
     ]
    },
    {
     "name": "stdout",
     "output_type": "stream",
     "text": [
      "0.33541554959785524\n",
      "0.2915817694369973\n",
      "0.34353887399463806\n",
      "0.34072386058981236\n",
      "0.29343163538873995\n",
      "0.33479892761394103\n"
     ]
    }
   ],
   "source": [
    "p1=train(naive_bayes.MultinomialNB(), xtrain_tfidf, yt, xvalid_tfidf,yd)\n",
    "print(p1)\n",
    "\n",
    "p1=train(naive_bayes.MultinomialNB(), xtrain_tfidf_ngram, yt, xvalid_tfidf_ngram,yd)\n",
    "print(p1)\n",
    "\n",
    "p1=train(naive_bayes.MultinomialNB(), xtrain_tfidf_ngram_chars, yt, xvalid_tfidf_ngram_chars,yd)\n",
    "print(p1)\n",
    "\n",
    "p1=train(ensemble.RandomForestClassifier(), xtrain_tfidf, yt, xvalid_tfidf,yd)\n",
    "print(p1)\n",
    "\n",
    "p1=train(ensemble.RandomForestClassifier(), xtrain_tfidf_ngram, yt, xvalid_tfidf_ngram,yd)\n",
    "print(p1)\n",
    "\n",
    "p1=train(ensemble.RandomForestClassifier(), xtrain_tfidf_ngram_chars, yt, xvalid_tfidf_ngram_chars,yd)\n",
    "print(p1)\n",
    "\n",
    "p1=train(linear_model.LogisticRegression(), xtrain_tfidf, yt, xvalid_tfidf,yd)\n",
    "print(p1)\n",
    "\n",
    "p1=train(linear_model.LogisticRegression(), xtrain_tfidf_ngram, yt, xvalid_tfidf_ngram,yd)\n",
    "print(p1)\n",
    "\n",
    "p1=train(linear_model.LogisticRegression(), xtrain_tfidf_ngram_chars, yt, xvalid_tfidf_ngram_chars,yd)\n",
    "print(p1)\n",
    "\n",
    "p1=train(svm.LinearSVC(C=C), xtrain_tfidf, yt, xvalid_tfidf,yd)\n",
    "print(p1)\n",
    "\n",
    "p1=train(svm.LinearSVC(C=C), xtrain_tfidf_ngram, yt, xvalid_tfidf_ngram,yd)\n",
    "print(p1)\n",
    "\n",
    "p1=train(svm.LinearSVC(C=C), xtrain_tfidf_ngram_chars, yt, xvalid_tfidf_ngram_chars,yd)\n",
    "print(p1)"
   ]
  },
  {
   "cell_type": "code",
   "execution_count": 23,
   "metadata": {},
   "outputs": [
    {
     "name": "stderr",
     "output_type": "stream",
     "text": [
      "/anaconda3/lib/python3.6/site-packages/sklearn/utils/validation.py:578: DataConversionWarning: A column-vector y was passed when a 1d array was expected. Please change the shape of y to (n_samples, ), for example using ravel().\n",
      "  y = column_or_1d(y, warn=True)\n",
      "/anaconda3/lib/python3.6/site-packages/ipykernel_launcher.py:28: DataConversionWarning: A column-vector y was passed when a 1d array was expected. Please change the shape of y to (n_samples,), for example using ravel().\n",
      "/anaconda3/lib/python3.6/site-packages/sklearn/utils/validation.py:578: DataConversionWarning: A column-vector y was passed when a 1d array was expected. Please change the shape of y to (n_samples, ), for example using ravel().\n",
      "  y = column_or_1d(y, warn=True)\n"
     ]
    },
    {
     "name": "stdout",
     "output_type": "stream",
     "text": [
      "!\n",
      "!\n",
      "!\n",
      "!\n"
     ]
    },
    {
     "data": {
      "text/plain": [
       "0.340857908847185"
      ]
     },
     "execution_count": 23,
     "metadata": {},
     "output_type": "execute_result"
    }
   ],
   "source": [
    "\n",
    "\n",
    "c1=trains(linear_model.LogisticRegression(), x_c, yt, d_c,yd)\n",
    "\n",
    "c2=trains(svm.LinearSVC(C=C), x_c, yt, d_c,yd)\n",
    "\n",
    "c3=trains(ensemble.RandomForestClassifier(), x_c, yt, d_c,yd)\n",
    "\n",
    "c4=trains(naive_bayes.MultinomialNB(), x_c, yt, d_c,yd)\n",
    "\n"
   ]
  },
  {
   "cell_type": "code",
   "execution_count": 34,
   "metadata": {},
   "outputs": [
    {
     "name": "stderr",
     "output_type": "stream",
     "text": [
      "/anaconda3/lib/python3.6/site-packages/sklearn/utils/validation.py:578: DataConversionWarning: A column-vector y was passed when a 1d array was expected. Please change the shape of y to (n_samples, ), for example using ravel().\n",
      "  y = column_or_1d(y, warn=True)\n"
     ]
    }
   ],
   "source": [
    "c5=trains(naive_bayes.BernoulliNB(), x_c, yt, d_c,yd)\n",
    "\n",
    "p=[]\n",
    "p.append(c1)\n",
    "p.append(c2)\n",
    "p.append(c3)\n",
    "p.append(c4)\n",
    "p.append(c5)\n",
    "p.append(c5)"
   ]
  },
  {
   "cell_type": "code",
   "execution_count": 180,
   "metadata": {},
   "outputs": [
    {
     "name": "stdout",
     "output_type": "stream",
     "text": [
      "!\n",
      "!\n",
      "!\n",
      "!\n",
      "!\n",
      "!\n",
      "!\n",
      "!\n",
      "!\n"
     ]
    },
    {
     "data": {
      "text/plain": [
       "0.0"
      ]
     },
     "execution_count": 180,
     "metadata": {},
     "output_type": "execute_result"
    }
   ],
   "source": [
    "\n",
    "\n",
    "\n",
    "p2=[]\n",
    "p2.append(nb_r)\n",
    "p2.append(nb_r)\n",
    "p2.append(nb_c)\n",
    "p2.append(rfc_r)\n",
    "p2.append(rfc_c)\n",
    "p2.append(svm_c)\n",
    "p2.append(svm_r)\n",
    "p2.append(lr_c)\n",
    "p2.append(lr_r)\n",
    "\n",
    "\n",
    "\n",
    "\n",
    "\n",
    "result={}\n",
    "for i in p2:\n",
    "    for j in range(len(i)):\n",
    "        result[j]=[]\n",
    "for i in p2:        \n",
    "    print(\"!\")\n",
    "    for j in range(len(i)):\n",
    "        result[j].append(i[j])\n",
    "\n",
    "pre=[]\n",
    "for k,v in result.items():\n",
    "    dicts={}\n",
    "    for items in v:\n",
    "        if items not in dicts:\n",
    "            dicts[items]=1\n",
    "        else:\n",
    "            dicts[items]+=1\n",
    "    c=Counter(dicts)\n",
    "    mc=c.most_common(1)\n",
    "    pre.append([k for k,v in mc])\n",
    "    \n",
    "metrics.accuracy_score(yd,pre)"
   ]
  },
  {
   "cell_type": "code",
   "execution_count": 179,
   "metadata": {},
   "outputs": [
    {
     "name": "stderr",
     "output_type": "stream",
     "text": [
      "/anaconda3/lib/python3.6/site-packages/sklearn/utils/validation.py:578: DataConversionWarning: A column-vector y was passed when a 1d array was expected. Please change the shape of y to (n_samples, ), for example using ravel().\n",
      "  y = column_or_1d(y, warn=True)\n",
      "/anaconda3/lib/python3.6/site-packages/ipykernel_launcher.py:28: DataConversionWarning: A column-vector y was passed when a 1d array was expected. Please change the shape of y to (n_samples,), for example using ravel().\n",
      "/anaconda3/lib/python3.6/site-packages/ipykernel_launcher.py:28: DataConversionWarning: A column-vector y was passed when a 1d array was expected. Please change the shape of y to (n_samples,), for example using ravel().\n",
      "/anaconda3/lib/python3.6/site-packages/sklearn/utils/validation.py:578: DataConversionWarning: A column-vector y was passed when a 1d array was expected. Please change the shape of y to (n_samples, ), for example using ravel().\n",
      "  y = column_or_1d(y, warn=True)\n"
     ]
    }
   ],
   "source": [
    "C=1.0\n",
    "nb_r=trains(naive_bayes.MultinomialNB(), xtrain_tfidf, yt, xvalid_tfidf,yd)\n",
    "\n",
    "nb_c=trains(naive_bayes.MultinomialNB(), xtrain_tfidf_ngram_chars, yt, xvalid_tfidf_ngram_chars,yd)\n",
    "\n",
    "rfc_r=trains(ensemble.RandomForestClassifier(), xtrain_tfidf, yt, xvalid_tfidf,yd)\n",
    "\n",
    "rfc_c=trains(ensemble.RandomForestClassifier(), xtrain_tfidf_ngram_chars, yt, xvalid_tfidf_ngram_chars,yd)\n",
    "\n",
    "lr_r=trains(linear_model.LogisticRegression(), xtrain_tfidf, yt, xvalid_tfidf,yd)\n",
    "\n",
    "lr_c=trains(linear_model.LogisticRegression(), xtrain_tfidf_ngram_chars, yt, xvalid_tfidf_ngram_chars,yd)\n",
    "\n",
    "svm_r=trains(svm.LinearSVC(C=C), xtrain_tfidf, yt, xvalid_tfidf,yd)\n",
    "\n",
    "svm_c=trains(svm.LinearSVC(C=C), xtrain_tfidf_ngram_chars, yt, xvalid_tfidf_ngram_chars,yd)\n",
    "\n",
    "\n",
    "\n",
    "\n"
   ]
  },
  {
   "cell_type": "code",
   "execution_count": 56,
   "metadata": {},
   "outputs": [],
   "source": [
    "#not accpted\n",
    "\n",
    "class StackingClassifier():\n",
    "\n",
    "    def __init__(self, classifiers, metaclassifier):\n",
    "        self.classifiers = classifiers\n",
    "        self.metaclassifier = metaclassifier\n",
    "\n",
    "    def fit(self, X, y):\n",
    "        for clf in self.classifiers:\n",
    "            clf.fit(X, y)\n",
    "        X_meta = self._predict_base(X)\n",
    "        self.metaclassifier.fit(X_meta, y)\n",
    "    \n",
    "    def _predict_base(self, X):\n",
    "        yhats = []\n",
    "        for clf in self.classifiers:\n",
    "            yhat = clf.predict_proba(X)\n",
    "            yhats.append(yhat)\n",
    "        yhats = np.concatenate(yhats, axis=1)\n",
    "        #print(yhats.shape)\n",
    "        assert yhats.shape[0] == X.shape[0]\n",
    "        return yhats\n",
    "    \n",
    "    def predict(self, X):\n",
    "        X_meta = self._predict_base(X)\n",
    "        yhat = self.metaclassifier.predict(X_meta)\n",
    "        return yhat\n",
    "    def score(self, X, y):\n",
    "        yhat = self.predict(X)\n",
    "        return accuracy_score(y, yhat)"
   ]
  },
  {
   "cell_type": "code",
   "execution_count": 96,
   "metadata": {},
   "outputs": [
    {
     "name": "stderr",
     "output_type": "stream",
     "text": [
      "/anaconda3/lib/python3.6/site-packages/sklearn/utils/validation.py:578: DataConversionWarning: A column-vector y was passed when a 1d array was expected. Please change the shape of y to (n_samples, ), for example using ravel().\n",
      "  y = column_or_1d(y, warn=True)\n",
      "/anaconda3/lib/python3.6/site-packages/sklearn/utils/validation.py:578: DataConversionWarning: A column-vector y was passed when a 1d array was expected. Please change the shape of y to (n_samples, ), for example using ravel().\n",
      "  y = column_or_1d(y, warn=True)\n",
      "/anaconda3/lib/python3.6/site-packages/sklearn/utils/validation.py:578: DataConversionWarning: A column-vector y was passed when a 1d array was expected. Please change the shape of y to (n_samples, ), for example using ravel().\n",
      "  y = column_or_1d(y, warn=True)\n",
      "/anaconda3/lib/python3.6/site-packages/sklearn/utils/validation.py:578: DataConversionWarning: A column-vector y was passed when a 1d array was expected. Please change the shape of y to (n_samples, ), for example using ravel().\n",
      "  y = column_or_1d(y, warn=True)\n",
      "/anaconda3/lib/python3.6/site-packages/sklearn/utils/validation.py:578: DataConversionWarning: A column-vector y was passed when a 1d array was expected. Please change the shape of y to (n_samples, ), for example using ravel().\n",
      "  y = column_or_1d(y, warn=True)\n",
      "/anaconda3/lib/python3.6/site-packages/sklearn/utils/validation.py:578: DataConversionWarning: A column-vector y was passed when a 1d array was expected. Please change the shape of y to (n_samples, ), for example using ravel().\n",
      "  y = column_or_1d(y, warn=True)\n"
     ]
    },
    {
     "name": "stdout",
     "output_type": "stream",
     "text": [
      "stacker acc: 0.7956104620002143\n"
     ]
    }
   ],
   "source": [
    "classifiers = [ensemble.BaggingClassifier(LogisticRegression(),100),AdaBoostClassifier(n_estimators=100,base_estimator=MultinomialNB(),leanring_rate=1),AdaBoostClassifier(n_estimators=100,base_estimator=MultinomialNB(),leanring_rate=1)]\n",
    "\n",
    "meta_classifier = AdaBoostClassifier(n_estimators=100,base_estimator=MultinomialNB(),leanring_rate=1)\n",
    "stacker = StackingClassifier(classifiers, meta_classifier)\n",
    "\n",
    "stacker.fit(xtrain_tfidf, yt)\n",
    "print('stacker acc:', stacker.score(xvalid_tfidf,yd))"
   ]
  },
  {
   "cell_type": "code",
   "execution_count": 97,
   "metadata": {},
   "outputs": [],
   "source": [
    "pre=stacker.predict(xtest_tfidf)"
   ]
  },
  {
   "cell_type": "code",
   "execution_count": 60,
   "metadata": {},
   "outputs": [
    {
     "data": {
      "text/plain": [
       "array(['Brisbane', 'Melbourne', 'Sydney', ..., 'Sydney', 'Brisbane',\n",
       "       'Brisbane'], dtype='<U9')"
      ]
     },
     "execution_count": 60,
     "metadata": {},
     "output_type": "execute_result"
    }
   ],
   "source": [
    "pre"
   ]
  },
  {
   "cell_type": "code",
   "execution_count": 176,
   "metadata": {},
   "outputs": [
    {
     "name": "stderr",
     "output_type": "stream",
     "text": [
      "/anaconda3/lib/python3.6/site-packages/sklearn/utils/validation.py:578: DataConversionWarning: A column-vector y was passed when a 1d array was expected. Please change the shape of y to (n_samples, ), for example using ravel().\n",
      "  y = column_or_1d(y, warn=True)\n",
      "/anaconda3/lib/python3.6/site-packages/ipykernel_launcher.py:9: DataConversionWarning: A column-vector y was passed when a 1d array was expected. Please change the shape of y to (n_samples,), for example using ravel().\n",
      "  if __name__ == '__main__':\n",
      "/anaconda3/lib/python3.6/site-packages/ipykernel_launcher.py:11: DataConversionWarning: A column-vector y was passed when a 1d array was expected. Please change the shape of y to (n_samples,), for example using ravel().\n",
      "  # This is added back by InteractiveShellApp.init_path()\n"
     ]
    },
    {
     "data": {
      "text/plain": [
       "array(['Perth', 'Sydney', 'Brisbane', ..., 'Sydney', 'Perth', 'Perth'],\n",
       "      dtype=object)"
      ]
     },
     "execution_count": 176,
     "metadata": {},
     "output_type": "execute_result"
    }
   ],
   "source": [
    "C=1.0\n",
    "classifiers = [LogisticRegression(),MultinomialNB(),DecisionTreeClassifier(),RandomForestClassifier()]\n",
    "\n",
    "meta_classifier = RandomForestClassifier()\n",
    "stacker = StackingClassifier(classifiers, meta_classifier)\n",
    "\n",
    "stacker.fit(xtrain_tfidf, yt)\n",
    "pre=stacker.predict(xvalid_tfidf)\n",
    "pre"
   ]
  },
  {
   "cell_type": "code",
   "execution_count": 99,
   "metadata": {},
   "outputs": [
    {
     "data": {
      "text/html": [
       "<div>\n",
       "<style scoped>\n",
       "    .dataframe tbody tr th:only-of-type {\n",
       "        vertical-align: middle;\n",
       "    }\n",
       "\n",
       "    .dataframe tbody tr th {\n",
       "        vertical-align: top;\n",
       "    }\n",
       "\n",
       "    .dataframe thead th {\n",
       "        text-align: right;\n",
       "    }\n",
       "</style>\n",
       "<table border=\"1\" class=\"dataframe\">\n",
       "  <thead>\n",
       "    <tr style=\"text-align: right;\">\n",
       "      <th></th>\n",
       "      <th>Id</th>\n",
       "      <th>Class</th>\n",
       "    </tr>\n",
       "  </thead>\n",
       "  <tbody>\n",
       "    <tr>\n",
       "      <th>0</th>\n",
       "      <td>31</td>\n",
       "      <td>Brisbane</td>\n",
       "    </tr>\n",
       "    <tr>\n",
       "      <th>1</th>\n",
       "      <td>32</td>\n",
       "      <td>Melbourne</td>\n",
       "    </tr>\n",
       "    <tr>\n",
       "      <th>2</th>\n",
       "      <td>33</td>\n",
       "      <td>Sydney</td>\n",
       "    </tr>\n",
       "    <tr>\n",
       "      <th>3</th>\n",
       "      <td>34</td>\n",
       "      <td>Perth</td>\n",
       "    </tr>\n",
       "    <tr>\n",
       "      <th>4</th>\n",
       "      <td>35</td>\n",
       "      <td>Perth</td>\n",
       "    </tr>\n",
       "    <tr>\n",
       "      <th>5</th>\n",
       "      <td>36</td>\n",
       "      <td>Perth</td>\n",
       "    </tr>\n",
       "    <tr>\n",
       "      <th>6</th>\n",
       "      <td>37</td>\n",
       "      <td>Sydney</td>\n",
       "    </tr>\n",
       "    <tr>\n",
       "      <th>7</th>\n",
       "      <td>38</td>\n",
       "      <td>Perth</td>\n",
       "    </tr>\n",
       "    <tr>\n",
       "      <th>8</th>\n",
       "      <td>39</td>\n",
       "      <td>Sydney</td>\n",
       "    </tr>\n",
       "    <tr>\n",
       "      <th>9</th>\n",
       "      <td>310</td>\n",
       "      <td>Perth</td>\n",
       "    </tr>\n",
       "    <tr>\n",
       "      <th>10</th>\n",
       "      <td>311</td>\n",
       "      <td>Melbourne</td>\n",
       "    </tr>\n",
       "    <tr>\n",
       "      <th>11</th>\n",
       "      <td>312</td>\n",
       "      <td>Brisbane</td>\n",
       "    </tr>\n",
       "    <tr>\n",
       "      <th>12</th>\n",
       "      <td>313</td>\n",
       "      <td>Sydney</td>\n",
       "    </tr>\n",
       "    <tr>\n",
       "      <th>13</th>\n",
       "      <td>314</td>\n",
       "      <td>Brisbane</td>\n",
       "    </tr>\n",
       "    <tr>\n",
       "      <th>14</th>\n",
       "      <td>315</td>\n",
       "      <td>Sydney</td>\n",
       "    </tr>\n",
       "    <tr>\n",
       "      <th>15</th>\n",
       "      <td>316</td>\n",
       "      <td>Perth</td>\n",
       "    </tr>\n",
       "    <tr>\n",
       "      <th>16</th>\n",
       "      <td>317</td>\n",
       "      <td>Perth</td>\n",
       "    </tr>\n",
       "    <tr>\n",
       "      <th>17</th>\n",
       "      <td>318</td>\n",
       "      <td>Melbourne</td>\n",
       "    </tr>\n",
       "    <tr>\n",
       "      <th>18</th>\n",
       "      <td>319</td>\n",
       "      <td>Perth</td>\n",
       "    </tr>\n",
       "    <tr>\n",
       "      <th>19</th>\n",
       "      <td>320</td>\n",
       "      <td>Perth</td>\n",
       "    </tr>\n",
       "    <tr>\n",
       "      <th>20</th>\n",
       "      <td>321</td>\n",
       "      <td>Melbourne</td>\n",
       "    </tr>\n",
       "    <tr>\n",
       "      <th>21</th>\n",
       "      <td>322</td>\n",
       "      <td>Perth</td>\n",
       "    </tr>\n",
       "    <tr>\n",
       "      <th>22</th>\n",
       "      <td>323</td>\n",
       "      <td>Melbourne</td>\n",
       "    </tr>\n",
       "    <tr>\n",
       "      <th>23</th>\n",
       "      <td>324</td>\n",
       "      <td>Melbourne</td>\n",
       "    </tr>\n",
       "    <tr>\n",
       "      <th>24</th>\n",
       "      <td>325</td>\n",
       "      <td>Perth</td>\n",
       "    </tr>\n",
       "    <tr>\n",
       "      <th>25</th>\n",
       "      <td>326</td>\n",
       "      <td>Brisbane</td>\n",
       "    </tr>\n",
       "    <tr>\n",
       "      <th>26</th>\n",
       "      <td>327</td>\n",
       "      <td>Perth</td>\n",
       "    </tr>\n",
       "    <tr>\n",
       "      <th>27</th>\n",
       "      <td>328</td>\n",
       "      <td>Sydney</td>\n",
       "    </tr>\n",
       "    <tr>\n",
       "      <th>28</th>\n",
       "      <td>329</td>\n",
       "      <td>Brisbane</td>\n",
       "    </tr>\n",
       "    <tr>\n",
       "      <th>29</th>\n",
       "      <td>330</td>\n",
       "      <td>Brisbane</td>\n",
       "    </tr>\n",
       "    <tr>\n",
       "      <th>...</th>\n",
       "      <td>...</td>\n",
       "      <td>...</td>\n",
       "    </tr>\n",
       "    <tr>\n",
       "      <th>108118</th>\n",
       "      <td>3108119</td>\n",
       "      <td>Melbourne</td>\n",
       "    </tr>\n",
       "    <tr>\n",
       "      <th>108119</th>\n",
       "      <td>3108120</td>\n",
       "      <td>Perth</td>\n",
       "    </tr>\n",
       "    <tr>\n",
       "      <th>108120</th>\n",
       "      <td>3108121</td>\n",
       "      <td>Melbourne</td>\n",
       "    </tr>\n",
       "    <tr>\n",
       "      <th>108121</th>\n",
       "      <td>3108122</td>\n",
       "      <td>Brisbane</td>\n",
       "    </tr>\n",
       "    <tr>\n",
       "      <th>108122</th>\n",
       "      <td>3108123</td>\n",
       "      <td>Perth</td>\n",
       "    </tr>\n",
       "    <tr>\n",
       "      <th>108123</th>\n",
       "      <td>3108124</td>\n",
       "      <td>Brisbane</td>\n",
       "    </tr>\n",
       "    <tr>\n",
       "      <th>108124</th>\n",
       "      <td>3108125</td>\n",
       "      <td>Sydney</td>\n",
       "    </tr>\n",
       "    <tr>\n",
       "      <th>108125</th>\n",
       "      <td>3108126</td>\n",
       "      <td>Brisbane</td>\n",
       "    </tr>\n",
       "    <tr>\n",
       "      <th>108126</th>\n",
       "      <td>3108127</td>\n",
       "      <td>Sydney</td>\n",
       "    </tr>\n",
       "    <tr>\n",
       "      <th>108127</th>\n",
       "      <td>3108128</td>\n",
       "      <td>Perth</td>\n",
       "    </tr>\n",
       "    <tr>\n",
       "      <th>108128</th>\n",
       "      <td>3108129</td>\n",
       "      <td>Melbourne</td>\n",
       "    </tr>\n",
       "    <tr>\n",
       "      <th>108129</th>\n",
       "      <td>3108130</td>\n",
       "      <td>Perth</td>\n",
       "    </tr>\n",
       "    <tr>\n",
       "      <th>108130</th>\n",
       "      <td>3108131</td>\n",
       "      <td>Sydney</td>\n",
       "    </tr>\n",
       "    <tr>\n",
       "      <th>108131</th>\n",
       "      <td>3108132</td>\n",
       "      <td>Sydney</td>\n",
       "    </tr>\n",
       "    <tr>\n",
       "      <th>108132</th>\n",
       "      <td>3108133</td>\n",
       "      <td>Brisbane</td>\n",
       "    </tr>\n",
       "    <tr>\n",
       "      <th>108133</th>\n",
       "      <td>3108134</td>\n",
       "      <td>Brisbane</td>\n",
       "    </tr>\n",
       "    <tr>\n",
       "      <th>108134</th>\n",
       "      <td>3108135</td>\n",
       "      <td>Perth</td>\n",
       "    </tr>\n",
       "    <tr>\n",
       "      <th>108135</th>\n",
       "      <td>3108136</td>\n",
       "      <td>Perth</td>\n",
       "    </tr>\n",
       "    <tr>\n",
       "      <th>108136</th>\n",
       "      <td>3108137</td>\n",
       "      <td>Perth</td>\n",
       "    </tr>\n",
       "    <tr>\n",
       "      <th>108137</th>\n",
       "      <td>3108138</td>\n",
       "      <td>Perth</td>\n",
       "    </tr>\n",
       "    <tr>\n",
       "      <th>108138</th>\n",
       "      <td>3108139</td>\n",
       "      <td>Perth</td>\n",
       "    </tr>\n",
       "    <tr>\n",
       "      <th>108139</th>\n",
       "      <td>3108140</td>\n",
       "      <td>Sydney</td>\n",
       "    </tr>\n",
       "    <tr>\n",
       "      <th>108140</th>\n",
       "      <td>3108141</td>\n",
       "      <td>Melbourne</td>\n",
       "    </tr>\n",
       "    <tr>\n",
       "      <th>108141</th>\n",
       "      <td>3108142</td>\n",
       "      <td>Brisbane</td>\n",
       "    </tr>\n",
       "    <tr>\n",
       "      <th>108142</th>\n",
       "      <td>3108143</td>\n",
       "      <td>Sydney</td>\n",
       "    </tr>\n",
       "    <tr>\n",
       "      <th>108143</th>\n",
       "      <td>3108144</td>\n",
       "      <td>Brisbane</td>\n",
       "    </tr>\n",
       "    <tr>\n",
       "      <th>108144</th>\n",
       "      <td>3108145</td>\n",
       "      <td>Brisbane</td>\n",
       "    </tr>\n",
       "    <tr>\n",
       "      <th>108145</th>\n",
       "      <td>3108146</td>\n",
       "      <td>Sydney</td>\n",
       "    </tr>\n",
       "    <tr>\n",
       "      <th>108146</th>\n",
       "      <td>3108147</td>\n",
       "      <td>Brisbane</td>\n",
       "    </tr>\n",
       "    <tr>\n",
       "      <th>108147</th>\n",
       "      <td>3108148</td>\n",
       "      <td>Melbourne</td>\n",
       "    </tr>\n",
       "  </tbody>\n",
       "</table>\n",
       "<p>108148 rows × 2 columns</p>\n",
       "</div>"
      ],
      "text/plain": [
       "             Id      Class\n",
       "0            31   Brisbane\n",
       "1            32  Melbourne\n",
       "2            33     Sydney\n",
       "3            34      Perth\n",
       "4            35      Perth\n",
       "5            36      Perth\n",
       "6            37     Sydney\n",
       "7            38      Perth\n",
       "8            39     Sydney\n",
       "9           310      Perth\n",
       "10          311  Melbourne\n",
       "11          312   Brisbane\n",
       "12          313     Sydney\n",
       "13          314   Brisbane\n",
       "14          315     Sydney\n",
       "15          316      Perth\n",
       "16          317      Perth\n",
       "17          318  Melbourne\n",
       "18          319      Perth\n",
       "19          320      Perth\n",
       "20          321  Melbourne\n",
       "21          322      Perth\n",
       "22          323  Melbourne\n",
       "23          324  Melbourne\n",
       "24          325      Perth\n",
       "25          326   Brisbane\n",
       "26          327      Perth\n",
       "27          328     Sydney\n",
       "28          329   Brisbane\n",
       "29          330   Brisbane\n",
       "...         ...        ...\n",
       "108118  3108119  Melbourne\n",
       "108119  3108120      Perth\n",
       "108120  3108121  Melbourne\n",
       "108121  3108122   Brisbane\n",
       "108122  3108123      Perth\n",
       "108123  3108124   Brisbane\n",
       "108124  3108125     Sydney\n",
       "108125  3108126   Brisbane\n",
       "108126  3108127     Sydney\n",
       "108127  3108128      Perth\n",
       "108128  3108129  Melbourne\n",
       "108129  3108130      Perth\n",
       "108130  3108131     Sydney\n",
       "108131  3108132     Sydney\n",
       "108132  3108133   Brisbane\n",
       "108133  3108134   Brisbane\n",
       "108134  3108135      Perth\n",
       "108135  3108136      Perth\n",
       "108136  3108137      Perth\n",
       "108137  3108138      Perth\n",
       "108138  3108139      Perth\n",
       "108139  3108140     Sydney\n",
       "108140  3108141  Melbourne\n",
       "108141  3108142   Brisbane\n",
       "108142  3108143     Sydney\n",
       "108143  3108144   Brisbane\n",
       "108144  3108145   Brisbane\n",
       "108145  3108146     Sydney\n",
       "108146  3108147   Brisbane\n",
       "108147  3108148  Melbourne\n",
       "\n",
       "[108148 rows x 2 columns]"
      ]
     },
     "execution_count": 99,
     "metadata": {},
     "output_type": "execute_result"
    }
   ],
   "source": [
    "\n",
    "#pre=trains(svm.LinearSVC(C=C), xtrain_tfidf, yt, xvalid_tfidf,yd)\n",
    "pre2=pre\n",
    "for i in range(len(pre)):\n",
    "    pre2[i]=pre[i]\n",
    "df_tt[1]=pre2\n",
    "td=pd.DataFrame()\n",
    "td[\"Id\"]=df_tt[0]\n",
    "td[\"Class\"]=df_tt[1]\n",
    "tdn=[\"Id\",\"Class\"]\n",
    "\n",
    "td.to_csv('count_bag_ngram_all_.tsv',index=False, header=tdn)\n",
    "td"
   ]
  },
  {
   "cell_type": "code",
   "execution_count": 44,
   "metadata": {
    "scrolled": true
   },
   "outputs": [
    {
     "name": "stderr",
     "output_type": "stream",
     "text": [
      "/anaconda3/lib/python3.6/site-packages/sklearn/utils/validation.py:578: DataConversionWarning: A column-vector y was passed when a 1d array was expected. Please change the shape of y to (n_samples, ), for example using ravel().\n",
      "  y = column_or_1d(y, warn=True)\n"
     ]
    },
    {
     "name": "stdout",
     "output_type": "stream",
     "text": [
      "0.342587629971058\n"
     ]
    }
   ],
   "source": [
    "bags=ensemble.BaggingClassifier(MultinomialNB(),100)\n",
    "bags.fit(x_c, yt)\n",
    "print(bags.score(d_c, yd))\n",
    "\n"
   ]
  },
  {
   "cell_type": "code",
   "execution_count": 120,
   "metadata": {},
   "outputs": [
    {
     "name": "stderr",
     "output_type": "stream",
     "text": [
      "/anaconda3/lib/python3.6/site-packages/sklearn/utils/validation.py:578: DataConversionWarning: A column-vector y was passed when a 1d array was expected. Please change the shape of y to (n_samples, ), for example using ravel().\n",
      "  y = column_or_1d(y, warn=True)\n"
     ]
    },
    {
     "name": "stdout",
     "output_type": "stream",
     "text": [
      "0.3439007396291135\n"
     ]
    }
   ],
   "source": [
    "bags2=ensemble.BaggingClassifier(MultinomialNB(),100)\n",
    "bags2.fit(xtrain_tfidf, yt)\n",
    "print(bags2.score(xvalid_tfidf, yd))\n",
    "\n"
   ]
  },
  {
   "cell_type": "code",
   "execution_count": 121,
   "metadata": {},
   "outputs": [
    {
     "name": "stderr",
     "output_type": "stream",
     "text": [
      "/anaconda3/lib/python3.6/site-packages/sklearn/utils/validation.py:578: DataConversionWarning: A column-vector y was passed when a 1d array was expected. Please change the shape of y to (n_samples, ), for example using ravel().\n",
      "  y = column_or_1d(y, warn=True)\n"
     ]
    },
    {
     "name": "stdout",
     "output_type": "stream",
     "text": [
      "0.29309143530925075\n"
     ]
    }
   ],
   "source": [
    "bags3=ensemble.BaggingClassifier(MultinomialNB(),100)\n",
    "bags3.fit(xtrain_tfidf_ngram, yt)\n",
    "print(bags3.score(xvalid_tfidf_ngram, yd))"
   ]
  },
  {
   "cell_type": "code",
   "execution_count": 122,
   "metadata": {},
   "outputs": [
    {
     "name": "stderr",
     "output_type": "stream",
     "text": [
      "/anaconda3/lib/python3.6/site-packages/sklearn/utils/validation.py:578: DataConversionWarning: A column-vector y was passed when a 1d array was expected. Please change the shape of y to (n_samples, ), for example using ravel().\n",
      "  y = column_or_1d(y, warn=True)\n"
     ]
    },
    {
     "name": "stdout",
     "output_type": "stream",
     "text": [
      "0.3304480651731161\n"
     ]
    }
   ],
   "source": [
    "bags4=ensemble.BaggingClassifier(MultinomialNB(),100)\n",
    "bags4.fit(xtrain_tfidf_ngram_chars, yt)\n",
    "print(bags4.score(xvalid_tfidf_ngram_chars, yd))"
   ]
  },
  {
   "cell_type": "code",
   "execution_count": 123,
   "metadata": {},
   "outputs": [
    {
     "name": "stderr",
     "output_type": "stream",
     "text": [
      "/anaconda3/lib/python3.6/site-packages/sklearn/utils/validation.py:578: DataConversionWarning: A column-vector y was passed when a 1d array was expected. Please change the shape of y to (n_samples, ), for example using ravel().\n",
      "  y = column_or_1d(y, warn=True)\n"
     ]
    },
    {
     "name": "stdout",
     "output_type": "stream",
     "text": [
      "0.33267231214492443\n"
     ]
    }
   ],
   "source": [
    "bags5=ensemble.BaggingClassifier(LogisticRegression(),100)\n",
    "bags5.fit(xtrain_tfidf, yt)\n",
    "print(bags5.score(xvalid_tfidf, yd))\n"
   ]
  },
  {
   "cell_type": "code",
   "execution_count": 124,
   "metadata": {},
   "outputs": [
    {
     "ename": "TypeError",
     "evalue": "__init__() got an unexpected keyword argument 'leanring_rate'",
     "output_type": "error",
     "traceback": [
      "\u001b[0;31m---------------------------------------------------------------------------\u001b[0m",
      "\u001b[0;31mTypeError\u001b[0m                                 Traceback (most recent call last)",
      "\u001b[0;32m<ipython-input-124-ed222626ba94>\u001b[0m in \u001b[0;36m<module>\u001b[0;34m()\u001b[0m\n\u001b[1;32m      1\u001b[0m \u001b[0;32mfrom\u001b[0m \u001b[0msklearn\u001b[0m\u001b[0;34m.\u001b[0m\u001b[0mensemble\u001b[0m \u001b[0;32mimport\u001b[0m \u001b[0mAdaBoostClassifier\u001b[0m \u001b[0;31m#For Classification\u001b[0m\u001b[0;34m\u001b[0m\u001b[0m\n\u001b[1;32m      2\u001b[0m \u001b[0;32mfrom\u001b[0m \u001b[0msklearn\u001b[0m\u001b[0;34m.\u001b[0m\u001b[0mensemble\u001b[0m \u001b[0;32mimport\u001b[0m \u001b[0mAdaBoostRegressor\u001b[0m \u001b[0;31m#For Regression\u001b[0m\u001b[0;34m\u001b[0m\u001b[0m\n\u001b[0;32m----> 3\u001b[0;31m \u001b[0mada1\u001b[0m\u001b[0;34m=\u001b[0m\u001b[0mAdaBoostClassifier\u001b[0m\u001b[0;34m(\u001b[0m\u001b[0mn_estimators\u001b[0m\u001b[0;34m=\u001b[0m\u001b[0;36m100\u001b[0m\u001b[0;34m,\u001b[0m\u001b[0mbase_estimator\u001b[0m\u001b[0;34m=\u001b[0m\u001b[0mMultinomialNB\u001b[0m\u001b[0;34m(\u001b[0m\u001b[0;34m)\u001b[0m\u001b[0;34m,\u001b[0m\u001b[0mleanring_rate\u001b[0m\u001b[0;34m=\u001b[0m\u001b[0;36m1\u001b[0m\u001b[0;34m)\u001b[0m\u001b[0;34m\u001b[0m\u001b[0m\n\u001b[0m\u001b[1;32m      4\u001b[0m \u001b[0mada1\u001b[0m\u001b[0;34m.\u001b[0m\u001b[0mfit\u001b[0m\u001b[0;34m(\u001b[0m\u001b[0mxtrain_tfidf\u001b[0m\u001b[0;34m,\u001b[0m \u001b[0myt\u001b[0m\u001b[0;34m)\u001b[0m\u001b[0;34m\u001b[0m\u001b[0m\n",
      "\u001b[0;31mTypeError\u001b[0m: __init__() got an unexpected keyword argument 'leanring_rate'"
     ]
    }
   ],
   "source": [
    "from sklearn.ensemble import AdaBoostClassifier #For Classification\n",
    "from sklearn.ensemble import AdaBoostRegressor #For Regression\n",
    "ada1=AdaBoostClassifier(n_estimators=100,base_estimator=MultinomialNB(),leanring_rate=1)\n",
    "ada1.fit(xtrain_tfidf, yt)"
   ]
  },
  {
   "cell_type": "code",
   "execution_count": 94,
   "metadata": {},
   "outputs": [
    {
     "data": {
      "text/plain": [
       "0.38281166255761606"
      ]
     },
     "execution_count": 94,
     "metadata": {},
     "output_type": "execute_result"
    }
   ],
   "source": [
    "ada1.score(xvalid_tfidf, yd)"
   ]
  },
  {
   "cell_type": "code",
   "execution_count": 47,
   "metadata": {},
   "outputs": [
    {
     "name": "stdout",
     "output_type": "stream",
     "text": [
      "           Brisbane  Perth  Melbourne  Sydney\n",
      "Brisbane       5091   3741       3619    3818\n",
      "Perth          2050   3287       2179    2112\n",
      "Melbourne      1165   1244       2288    1281\n",
      "Sydney         1023   1057       1243    2118\n"
     ]
    }
   ],
   "source": [
    "label=[\"Brisbane\",\"Perth\",\"Melbourne\",\"Sydney\"]\n",
    "pre=bags.predict(d_c)\n",
    "from sklearn.metrics import confusion_matrix\n",
    "print(pd.DataFrame(confusion_matrix(pre,yd,labels=label), index=label, columns=label))"
   ]
  },
  {
   "cell_type": "code",
   "execution_count": 15,
   "metadata": {},
   "outputs": [
    {
     "data": {
      "text/plain": [
       "array(['Melbourne', 'Perth', 'Brisbane', ..., 'Brisbane', 'Brisbane',\n",
       "       'Brisbane'], dtype=object)"
      ]
     },
     "execution_count": 15,
     "metadata": {},
     "output_type": "execute_result"
    }
   ],
   "source": [
    "pre=bags3.predict(xtest_tfidf_ngram)\n",
    "pre"
   ]
  },
  {
   "cell_type": "code",
   "execution_count": 26,
   "metadata": {},
   "outputs": [],
   "source": [
    "pre1=bags9.predict(xtest_tfidf_ngram_chars)\n",
    "pre2=bags5.predict(xtest_tfidf)\n",
    "pre3=bags4.predict(xtest_tfidf_ngram_chars)\n",
    "pre4=bags3.predict(xtest_tfidf_ngram)\n",
    "pre5=bags2.predict(xtest_tfidf)\n",
    "pre6=bags.predict(xxx)"
   ]
  },
  {
   "cell_type": "code",
   "execution_count": 28,
   "metadata": {},
   "outputs": [
    {
     "name": "stdout",
     "output_type": "stream",
     "text": [
      "!\n",
      "!\n",
      "!\n",
      "!\n",
      "!\n",
      "!\n"
     ]
    }
   ],
   "source": [
    "p2=[]\n",
    "p2.append(pre1)\n",
    "p2.append(pre2)\n",
    "p2.append(pre3)\n",
    "p2.append(pre4)\n",
    "p2.append(pre5)\n",
    "p2.append(pre6)\n",
    "\n",
    "result={}\n",
    "for i in p2:\n",
    "    for j in range(len(i)):\n",
    "        result[j]=[]\n",
    "for i in p2:        \n",
    "    print(\"!\")\n",
    "    for j in range(len(i)):\n",
    "        result[j].append(i[j])\n",
    "\n",
    "pre=[]\n",
    "for k,v in result.items():\n",
    "    dicts={}\n",
    "    for items in v:\n",
    "        if items not in dicts:\n",
    "            dicts[items]=1\n",
    "        else:\n",
    "            dicts[items]+=1\n",
    "    c=Counter(dicts)\n",
    "    mc=c.most_common(1)\n",
    "    pre.append([k for k,v in mc])\n",
    "  "
   ]
  },
  {
   "cell_type": "code",
   "execution_count": null,
   "metadata": {},
   "outputs": [],
   "source": [
    "bags9=ensemble.BaggingClassifier(LogisticRegression(),100)\n",
    "bags9.fit(xtrain_tfidf_ngram_chars, yt)\n",
    "print(bags9.score(xvalid_tfidf_ngram_chars, yd))"
   ]
  },
  {
   "cell_type": "code",
   "execution_count": 7,
   "metadata": {},
   "outputs": [
    {
     "name": "stderr",
     "output_type": "stream",
     "text": [
      "/anaconda3/lib/python3.6/site-packages/sklearn/utils/validation.py:578: DataConversionWarning: A column-vector y was passed when a 1d array was expected. Please change the shape of y to (n_samples, ), for example using ravel().\n",
      "  y = column_or_1d(y, warn=True)\n"
     ]
    },
    {
     "name": "stdout",
     "output_type": "stream",
     "text": [
      "0.322381820130775\n"
     ]
    }
   ],
   "source": [
    "bags6=ensemble.BaggingClassifier(RandomForestClassifier(),10)\n",
    "bags6.fit(xtrain_tfidf, yt)\n",
    "print(bags6.score(xvalid_tfidf, yd))"
   ]
  },
  {
   "cell_type": "code",
   "execution_count": null,
   "metadata": {},
   "outputs": [
    {
     "name": "stderr",
     "output_type": "stream",
     "text": [
      "/anaconda3/lib/python3.6/site-packages/sklearn/utils/validation.py:578: DataConversionWarning: A column-vector y was passed when a 1d array was expected. Please change the shape of y to (n_samples, ), for example using ravel().\n",
      "  y = column_or_1d(y, warn=True)\n"
     ]
    }
   ],
   "source": [
    "bags7=ensemble.BaggingClassifier(RandomForestClassifier(),10)\n",
    "bags7.fit(xtrain_tfidf_ngram_chars, yt)\n",
    "print(bags7.score(xvalid_tfidf_ngram_chars, yd))"
   ]
  },
  {
   "cell_type": "code",
   "execution_count": null,
   "metadata": {},
   "outputs": [],
   "source": []
  },
  {
   "cell_type": "code",
   "execution_count": 119,
   "metadata": {},
   "outputs": [
    {
     "name": "stderr",
     "output_type": "stream",
     "text": [
      "/anaconda3/lib/python3.6/site-packages/sklearn/utils/validation.py:578: DataConversionWarning: A column-vector y was passed when a 1d array was expected. Please change the shape of y to (n_samples, ), for example using ravel().\n",
      "  y = column_or_1d(y, warn=True)\n"
     ]
    },
    {
     "name": "stdout",
     "output_type": "stream",
     "text": [
      "           Brisbane  Perth  Melbourne  Sydney\n",
      "Brisbane       3115   1696       2117    2401\n",
      "Perth          1983   2806       2162    2378\n",
      "Melbourne      1849   1646       3354    2480\n",
      "Sydney         2038   1658       2190    3443\n"
     ]
    }
   ],
   "source": [
    "p1=trains(svm.LinearSVC(C=C), xtrain_tfidf, yt, xvalid_tfidf,yd)\n",
    "\n",
    "\n",
    "\n",
    "print(pd.DataFrame(confusion_matrix(yd,p1,labels=label), index=label, columns=label))"
   ]
  }
 ],
 "metadata": {
  "kernelspec": {
   "display_name": "Python 3",
   "language": "python",
   "name": "python3"
  },
  "language_info": {
   "codemirror_mode": {
    "name": "ipython",
    "version": 3
   },
   "file_extension": ".py",
   "mimetype": "text/x-python",
   "name": "python",
   "nbconvert_exporter": "python",
   "pygments_lexer": "ipython3",
   "version": "3.6.5"
  }
 },
 "nbformat": 4,
 "nbformat_minor": 2
}
